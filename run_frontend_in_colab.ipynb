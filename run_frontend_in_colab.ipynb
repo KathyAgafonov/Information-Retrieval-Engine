{
 "cells": [
  {
   "cell_type": "code",
   "execution_count": 58,
   "metadata": {
    "colab": {
     "base_uri": "https://localhost:8080/"
    },
    "id": "bCPDHP7zTQJZ",
    "outputId": "f0ad9903-20ae-4eb5-8608-8250f53ad576"
   },
   "outputs": [
    {
     "name": "stderr",
     "output_type": "stream",
     "text": [
      "[nltk_data] Downloading package stopwords to /root/nltk_data...\n",
      "[nltk_data]   Package stopwords is already up-to-date!\n"
     ]
    },
    {
     "data": {
      "text/plain": [
       "True"
      ]
     },
     "execution_count": 58,
     "metadata": {},
     "output_type": "execute_result"
    }
   ],
   "source": [
    "# download nltk stopwords\n",
    "import nltk\n",
    "nltk.download('stopwords')"
   ]
  },
  {
   "cell_type": "code",
   "execution_count": 59,
   "metadata": {
    "id": "vuYjBPF5n6eH"
   },
   "outputs": [],
   "source": [
    "# !rm -r -R --recursive anchor"
   ]
  },
  {
   "cell_type": "code",
   "execution_count": 60,
   "metadata": {
    "id": "lAt6KT8xOgHH"
   },
   "outputs": [],
   "source": [
    "# # Install a particular version of `google-cloud-storage` because (oddly enough) \n",
    "# # the  version on Colab and GCP is old. A dependency error below is okay.\n",
    "# !pip install -q google-cloud-storage==1.43.0"
   ]
  },
  {
   "cell_type": "code",
   "execution_count": 61,
   "metadata": {
    "id": "-oKFly5jFLFn"
   },
   "outputs": [],
   "source": [
    "# # authenticate below for Google Storage access as needed\n",
    "# from google.colab import auth\n",
    "# auth.authenticate_user()"
   ]
  },
  {
   "cell_type": "code",
   "execution_count": 62,
   "metadata": {
    "id": "FrBdFNYgiyab"
   },
   "outputs": [],
   "source": [
    "# # install ngrok to emulate public IP / address\n",
    "# !wget -N https://bin.equinox.io/c/4VmDzA7iaHb/ngrok-stable-linux-amd64.zip -O ngrok-stable-linux-amd64.zip\n",
    "# !unzip -u ngrok-stable-linux-amd64.zip"
   ]
  },
  {
   "cell_type": "code",
   "execution_count": 63,
   "metadata": {
    "id": "xA-_dKEZbsXW"
   },
   "outputs": [],
   "source": [
    "# # TODO: sign up for an ngrok account\n",
    "# # then put your ngrok token below, uncomment, and execute\n",
    "# !./ngrok authtoken 2JVUEdhb58Kv6Mv7FuCIXzlGDOC_54KirAsbTYbEwJgqJ7qmp"
   ]
  },
  {
   "cell_type": "code",
   "execution_count": 64,
   "metadata": {
    "id": "nXn5PlyGORQr"
   },
   "outputs": [],
   "source": [
    "# # install a ngrok python package and a version of flask that works with it in \n",
    "# # colab\n",
    "# !pip -q install flask-ngrok\n",
    "# !pip -q install flask==0.12.2\n",
    "# !pip -q install flask_restful"
   ]
  },
  {
   "cell_type": "markdown",
   "metadata": {
    "id": "6dW0y91OVu5J"
   },
   "source": [
    "# Run the app"
   ]
  },
  {
   "cell_type": "code",
   "execution_count": 65,
   "metadata": {
    "id": "7opNkV6uRHIv"
   },
   "outputs": [],
   "source": [
    "# # you need to upload your implementation of search_app.py\n",
    "# import search_frontend as se"
   ]
  },
  {
   "cell_type": "code",
   "execution_count": 66,
   "metadata": {
    "id": "oTGXXYEXV5l8"
   },
   "outputs": [],
   "source": [
    "# # uncomment the code below and execute to reload the module when you make \n",
    "# # changes to search_frontend.py (after you upload again).\n",
    "# import importlib\n",
    "# importlib.reload(se)"
   ]
  },
  {
   "cell_type": "code",
   "execution_count": 67,
   "metadata": {
    "id": "J5n9u9rFP_wD"
   },
   "outputs": [],
   "source": [
    "# from flask_ngrok import run_with_ngrok\n",
    "# run_with_ngrok(se.app) \n",
    "# se.app.run()"
   ]
  },
  {
   "cell_type": "markdown",
   "metadata": {
    "id": "Na0MC_1nzDbi"
   },
   "source": [
    "# Testing your app\n",
    "\n",
    "Once your app is running you can query it. You can simply do that by navigating to the URL that ngrok gave you above or through code in a different python session. For example, once the frontend app is running, you can navigate to:\n",
    "http://YOUR_SERVER_DOMAIN/search?query=hello+world where YOUR_SERVER_DOMAIN is something like XXXX-XX-XX-XX-XX.ngrok.io, which is printed above in Colab or that is your external IP on GCP.\n",
    "\n",
    "The code below shows how to issue a query from python. This is also how our testing code will issue queries to your search engine, so make sure to test your search engine this way after you deploy it to GCP and before submission. Command line instructions for deploying your search engine to GCP are available at `run_frontend_in_gcp.sh`. Note that we will not only issue training queries to your search engine, but also test queries, i.e. queries that you've never seen before."
   ]
  },
  {
   "cell_type": "code",
   "execution_count": 52,
   "metadata": {
    "id": "EM5ePrRHojbG"
   },
   "outputs": [],
   "source": [
    "import json\n",
    "\n",
    "with open('queries_train.json', 'rt') as f: \n",
    "  queries = json.load(f)"
   ]
  },
  {
   "cell_type": "code",
   "execution_count": 53,
   "metadata": {
    "id": "gWimZWCOy3Ei"
   },
   "outputs": [],
   "source": [
    "def average_precision(true_list, predicted_list, k=40):\n",
    "    true_set = frozenset(true_list)\n",
    "    predicted_list = predicted_list[:k]\n",
    "    precisions = []\n",
    "    for i,doc_id in enumerate(predicted_list):        \n",
    "        if doc_id in true_set:\n",
    "            prec = (len(precisions)+1) / (i+1)            \n",
    "            precisions.append(prec)\n",
    "    if len(precisions) == 0:\n",
    "        return 0.0\n",
    "    return round(sum(precisions)/len(precisions),3)"
   ]
  },
  {
   "cell_type": "code",
   "execution_count": 54,
   "metadata": {
    "id": "dYmNTq9u0ChK"
   },
   "outputs": [],
   "source": [
    "import requests\n",
    "from time import time\n",
    "url = 'http://34.136.225.57:8080'\n",
    "# place the domain you got from ngrok or GCP IP below. \n",
    "# url = 'http://XXXX-XX-XX-XX-XX.ngrok.io'\n",
    "failed = []\n",
    "qs_res = []\n",
    "for q, true_wids in queries.items():\n",
    "  duration, ap = None, None\n",
    "  t_start = time()\n",
    "  try:\n",
    "    res = requests.get(url + '/search', {'query': q}, timeout=35)\n",
    "    duration = time() - t_start\n",
    "    if res.status_code == 200:\n",
    "      pred_wids, _ = zip(*res.json())\n",
    "      ap = average_precision(true_wids, pred_wids)\n",
    "  except:\n",
    "    failed.append(q)\n",
    "  \n",
    "  qs_res.append((q, duration, ap))"
   ]
  },
  {
   "cell_type": "code",
   "execution_count": null,
   "metadata": {
    "colab": {
     "base_uri": "https://localhost:8080/"
    },
    "id": "Dk1q2VXMfxnz",
    "outputId": "9bbfe7c2-104a-41e8-a880-96d7cd3bace7"
   },
   "outputs": [],
   "source": [
    "print(\"----------------- search -------------------\")\n",
    "print('Avg respone time: ' + str(sum([i[1] for i in qs_res])/len(qs_res)))\n",
    "print('MAP@40: ' + str(sum([i[2] for i in qs_res])/len(qs_res)))"
   ]
  },
  {
   "cell_type": "code",
   "execution_count": 56,
   "metadata": {
    "id": "5K0OdWHSg2Pl"
   },
   "outputs": [],
   "source": [
    "import requests\n",
    "from time import time\n",
    "url = 'http://34.136.225.57:8080'\n",
    "# place the domain you got from ngrok or GCP IP below. \n",
    "# url = 'http://XXXX-XX-XX-XX-XX.ngrok.io'\n",
    "failed = []\n",
    "\n",
    "qs_res = []\n",
    "for q, true_wids in queries.items():\n",
    "  duration, ap = None, None\n",
    "  t_start = time()\n",
    "  try:\n",
    "    res = requests.get(url + '/search_body', {'query': q}, timeout=35)\n",
    "    duration = time() - t_start\n",
    "    if res.status_code == 200:\n",
    "      pred_wids, _ = zip(*res.json())\n",
    "      ap = average_precision(true_wids, pred_wids)\n",
    "  except:\n",
    "    failed.append(q)\n",
    "  \n",
    "  qs_res.append((q, duration, ap))"
   ]
  },
  {
   "cell_type": "code",
   "execution_count": null,
   "metadata": {
    "colab": {
     "base_uri": "https://localhost:8080/"
    },
    "id": "43w_WO8Wg3b6",
    "outputId": "75bcb06a-f94b-4e49-d041-20652708ea0f"
   },
   "outputs": [],
   "source": [
    "print(\"----------------- body -------------------\")\n",
    "print('Avg respone time: ' + str(sum([i[1] for i in qs_res])/len(qs_res)))\n",
    "print('MAP@40: ' + str(sum([i[2] for i in qs_res])/len(qs_res)))"
   ]
  },
  {
   "cell_type": "code",
   "execution_count": 58,
   "metadata": {
    "id": "3HQay5QwgwGk"
   },
   "outputs": [],
   "source": [
    "import requests\n",
    "from time import time\n",
    "url = 'http://34.136.225.57:8080'\n",
    "# place the domain you got from ngrok or GCP IP below. \n",
    "# url = 'http://XXXX-XX-XX-XX-XX.ngrok.io'\n",
    "failed = []\n",
    "\n",
    "qs_res = []\n",
    "for q, true_wids in queries.items():\n",
    "  duration, ap = None, None\n",
    "  t_start = time()\n",
    "  try:\n",
    "    res = requests.get(url + '/search_title', {'query': q}, timeout=35)\n",
    "    duration = time() - t_start\n",
    "    if res.status_code == 200:\n",
    "      pred_wids, _ = zip(*res.json())\n",
    "      ap = average_precision(true_wids, pred_wids)\n",
    "  except:\n",
    "    failed.append(q)\n",
    "  \n",
    "  qs_res.append((q, duration, ap))"
   ]
  },
  {
   "cell_type": "code",
   "execution_count": null,
   "metadata": {
    "colab": {
     "base_uri": "https://localhost:8080/"
    },
    "id": "8rOa4Rx-gxCb",
    "outputId": "b329206c-4c51-4cd9-e3ac-cfa5965f148e"
   },
   "outputs": [],
   "source": [
    "print(\"----------------- title -------------------\")\n",
    "print('Avg respone time: ' + str(sum([i[1] for i in qs_res])/len(qs_res)))\n",
    "print('MAP@40: ' + str(sum([i[2] for i in qs_res])/len(qs_res)))"
   ]
  },
  {
   "cell_type": "code",
   "execution_count": 60,
   "metadata": {
    "id": "QOtLqd2qhFbz"
   },
   "outputs": [],
   "source": [
    "import requests\n",
    "from time import time\n",
    "url = 'http://34.136.225.57:8080'\n",
    "# place the domain you got from ngrok or GCP IP below. \n",
    "# url = 'http://XXXX-XX-XX-XX-XX.ngrok.io'\n",
    "failed = []\n",
    "\n",
    "qs_res = []\n",
    "for q, true_wids in queries.items():\n",
    "  duration, ap = None, None\n",
    "  t_start = time()\n",
    "  try:\n",
    "    res = requests.get(url + '/search_anchor', {'query': q}, timeout=35)\n",
    "    duration = time() - t_start\n",
    "    if res.status_code == 200:\n",
    "      pred_wids, _ = zip(*res.json())\n",
    "      ap = average_precision(true_wids, pred_wids)\n",
    "  except:\n",
    "    failed.append(q)\n",
    "  \n",
    "  qs_res.append((q, duration, ap))"
   ]
  },
  {
   "cell_type": "code",
   "execution_count": null,
   "metadata": {
    "colab": {
     "base_uri": "https://localhost:8080/"
    },
    "id": "KTZyflmchJUM",
    "outputId": "00d2a19a-4c37-4d37-eae0-58b7b26f9c4b"
   },
   "outputs": [],
   "source": [
    "print(\"----------------- anchor -------------------\")\n",
    "print('Avg respone time: ' + str(sum([i[1] for i in qs_res])/len(qs_res)))\n",
    "print('MAP@40: ' + str(sum([i[2] for i in qs_res])/len(qs_res)))"
   ]
  }
 ],
 "metadata": {
  "colab": {
   "provenance": []
  },
  "kernelspec": {
   "display_name": "Python 3",
   "name": "python3"
  },
  "language_info": {
   "name": "python"
  }
 },
 "nbformat": 4,
 "nbformat_minor": 0
}